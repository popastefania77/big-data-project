{
 "cells": [
  {
   "cell_type": "markdown",
   "id": "e5b61f8d",
   "metadata": {
    "papermill": {
     "duration": 0.011161,
     "end_time": "2024-03-15T04:41:00.216021",
     "exception": false,
     "start_time": "2024-03-15T04:41:00.204860",
     "status": "completed"
    },
    "tags": []
   },
   "source": [
    "![](https://moneylion.nyc3.cdn.digitaloceanspaces.com/wp-content/uploads/2023/01/06170512/Untitled-design-88.webp)"
   ]
  },
  {
   "cell_type": "code",
   "execution_count": 13,
   "id": "c952c339-0ba5-4750-9e0f-5cde40ac89e6",
   "metadata": {},
   "outputs": [
    {
     "name": "stdout",
     "output_type": "stream",
     "text": [
      "Requirement already satisfied: numpy==1.26.4 in c:\\users\\popas\\appdata\\local\\programs\\python\\python312\\lib\\site-packages (1.26.4)\n",
      "Collecting pmdarima\n",
      "  Using cached pmdarima-2.0.4-cp312-cp312-win_amd64.whl.metadata (8.0 kB)\n",
      "Requirement already satisfied: joblib>=0.11 in c:\\users\\popas\\appdata\\local\\programs\\python\\python312\\lib\\site-packages (from pmdarima) (1.4.2)\n",
      "Requirement already satisfied: Cython!=0.29.18,!=0.29.31,>=0.29 in c:\\users\\popas\\appdata\\local\\programs\\python\\python312\\lib\\site-packages (from pmdarima) (3.0.11)\n",
      "Requirement already satisfied: numpy>=1.21.2 in c:\\users\\popas\\appdata\\local\\programs\\python\\python312\\lib\\site-packages (from pmdarima) (1.26.4)\n",
      "Requirement already satisfied: pandas>=0.19 in c:\\users\\popas\\appdata\\local\\programs\\python\\python312\\lib\\site-packages (from pmdarima) (2.2.3)\n",
      "Requirement already satisfied: scikit-learn>=0.22 in c:\\users\\popas\\appdata\\local\\programs\\python\\python312\\lib\\site-packages (from pmdarima) (1.6.1)\n",
      "Requirement already satisfied: scipy>=1.3.2 in c:\\users\\popas\\appdata\\local\\programs\\python\\python312\\lib\\site-packages (from pmdarima) (1.15.1)\n",
      "Requirement already satisfied: statsmodels>=0.13.2 in c:\\users\\popas\\appdata\\local\\programs\\python\\python312\\lib\\site-packages (from pmdarima) (0.14.4)\n",
      "Requirement already satisfied: urllib3 in c:\\users\\popas\\appdata\\local\\programs\\python\\python312\\lib\\site-packages (from pmdarima) (2.3.0)\n",
      "Requirement already satisfied: setuptools!=50.0.0,>=38.6.0 in c:\\users\\popas\\appdata\\local\\programs\\python\\python312\\lib\\site-packages (from pmdarima) (75.8.0)\n",
      "Requirement already satisfied: packaging>=17.1 in c:\\users\\popas\\appdata\\local\\programs\\python\\python312\\lib\\site-packages (from pmdarima) (24.2)\n",
      "Requirement already satisfied: python-dateutil>=2.8.2 in c:\\users\\popas\\appdata\\local\\programs\\python\\python312\\lib\\site-packages (from pandas>=0.19->pmdarima) (2.9.0.post0)\n",
      "Requirement already satisfied: pytz>=2020.1 in c:\\users\\popas\\appdata\\local\\programs\\python\\python312\\lib\\site-packages (from pandas>=0.19->pmdarima) (2024.2)\n",
      "Requirement already satisfied: tzdata>=2022.7 in c:\\users\\popas\\appdata\\local\\programs\\python\\python312\\lib\\site-packages (from pandas>=0.19->pmdarima) (2024.2)\n",
      "Requirement already satisfied: threadpoolctl>=3.1.0 in c:\\users\\popas\\appdata\\local\\programs\\python\\python312\\lib\\site-packages (from scikit-learn>=0.22->pmdarima) (3.5.0)\n",
      "Requirement already satisfied: patsy>=0.5.6 in c:\\users\\popas\\appdata\\local\\programs\\python\\python312\\lib\\site-packages (from statsmodels>=0.13.2->pmdarima) (1.0.1)\n",
      "Requirement already satisfied: six>=1.5 in c:\\users\\popas\\appdata\\local\\programs\\python\\python312\\lib\\site-packages (from python-dateutil>=2.8.2->pandas>=0.19->pmdarima) (1.17.0)\n",
      "Using cached pmdarima-2.0.4-cp312-cp312-win_amd64.whl (625 kB)\n",
      "Installing collected packages: pmdarima\n",
      "Successfully installed pmdarima-2.0.4\n"
     ]
    }
   ],
   "source": [
    "!pip install numpy==1.26.4\n",
    "!pip install pmdarima\n"
   ]
  },
  {
   "cell_type": "code",
   "execution_count": 15,
   "id": "f668b32d",
   "metadata": {
    "_cell_guid": "b1076dfc-b9ad-4769-8c92-a6c4dae69d19",
    "_uuid": "8f2839f25d086af736a60e9eeb907d3b93b6e0e5",
    "papermill": {
     "duration": 7.98113,
     "end_time": "2024-03-15T04:41:50.561032",
     "exception": false,
     "start_time": "2024-03-15T04:41:42.579902",
     "status": "completed"
    },
    "tags": []
   },
   "outputs": [
    {
     "ename": "ValueError",
     "evalue": "numpy.dtype size changed, may indicate binary incompatibility. Expected 96 from C header, got 88 from PyObject",
     "output_type": "error",
     "traceback": [
      "\u001b[1;31m---------------------------------------------------------------------------\u001b[0m",
      "\u001b[1;31mValueError\u001b[0m                                Traceback (most recent call last)",
      "Cell \u001b[1;32mIn[15], line 15\u001b[0m\n\u001b[0;32m     12\u001b[0m \u001b[38;5;28;01mfrom\u001b[39;00m\u001b[38;5;250m \u001b[39m\u001b[38;5;21;01mstatsmodels\u001b[39;00m\u001b[38;5;21;01m.\u001b[39;00m\u001b[38;5;21;01mtsa\u001b[39;00m\u001b[38;5;21;01m.\u001b[39;00m\u001b[38;5;21;01marima\u001b[39;00m\u001b[38;5;21;01m.\u001b[39;00m\u001b[38;5;21;01mmodel\u001b[39;00m\u001b[38;5;250m \u001b[39m\u001b[38;5;28;01mimport\u001b[39;00m ARIMA\n\u001b[0;32m     13\u001b[0m \u001b[38;5;28;01mfrom\u001b[39;00m\u001b[38;5;250m \u001b[39m\u001b[38;5;21;01mxgboost\u001b[39;00m\u001b[38;5;250m \u001b[39m\u001b[38;5;28;01mimport\u001b[39;00m XGBRegressor\n\u001b[1;32m---> 15\u001b[0m \u001b[38;5;28;01mfrom\u001b[39;00m\u001b[38;5;250m \u001b[39m\u001b[38;5;21;01mpmdarima\u001b[39;00m\u001b[38;5;250m \u001b[39m\u001b[38;5;28;01mimport\u001b[39;00m auto_arima\n\u001b[0;32m     17\u001b[0m \u001b[38;5;28;01mimport\u001b[39;00m\u001b[38;5;250m \u001b[39m\u001b[38;5;21;01mwarnings\u001b[39;00m\n\u001b[0;32m     18\u001b[0m warnings\u001b[38;5;241m.\u001b[39mfilterwarnings(\u001b[38;5;124m\"\u001b[39m\u001b[38;5;124mignore\u001b[39m\u001b[38;5;124m\"\u001b[39m)\n",
      "File \u001b[1;32m~\\AppData\\Local\\Programs\\Python\\Python312\\Lib\\site-packages\\pmdarima\\__init__.py:52\u001b[0m\n\u001b[0;32m     49\u001b[0m \u001b[38;5;28;01mfrom\u001b[39;00m\u001b[38;5;250m \u001b[39m\u001b[38;5;21;01m.\u001b[39;00m\u001b[38;5;250m \u001b[39m\u001b[38;5;28;01mimport\u001b[39;00m __check_build\n\u001b[0;32m     51\u001b[0m \u001b[38;5;66;03m# Stuff we want at top-level\u001b[39;00m\n\u001b[1;32m---> 52\u001b[0m \u001b[38;5;28;01mfrom\u001b[39;00m\u001b[38;5;250m \u001b[39m\u001b[38;5;21;01m.\u001b[39;00m\u001b[38;5;21;01marima\u001b[39;00m\u001b[38;5;250m \u001b[39m\u001b[38;5;28;01mimport\u001b[39;00m auto_arima, ARIMA, AutoARIMA, StepwiseContext, decompose\n\u001b[0;32m     53\u001b[0m \u001b[38;5;28;01mfrom\u001b[39;00m\u001b[38;5;250m \u001b[39m\u001b[38;5;21;01m.\u001b[39;00m\u001b[38;5;21;01mutils\u001b[39;00m\u001b[38;5;250m \u001b[39m\u001b[38;5;28;01mimport\u001b[39;00m acf, autocorr_plot, c, pacf, plot_acf, plot_pacf, \\\n\u001b[0;32m     54\u001b[0m     tsdisplay\n\u001b[0;32m     55\u001b[0m \u001b[38;5;28;01mfrom\u001b[39;00m\u001b[38;5;250m \u001b[39m\u001b[38;5;21;01m.\u001b[39;00m\u001b[38;5;21;01mutils\u001b[39;00m\u001b[38;5;21;01m.\u001b[39;00m\u001b[38;5;21;01m_show_versions\u001b[39;00m\u001b[38;5;250m \u001b[39m\u001b[38;5;28;01mimport\u001b[39;00m show_versions\n",
      "File \u001b[1;32m~\\AppData\\Local\\Programs\\Python\\Python312\\Lib\\site-packages\\pmdarima\\arima\\__init__.py:5\u001b[0m\n\u001b[0;32m      1\u001b[0m \u001b[38;5;66;03m# -*- coding: utf-8 -*-\u001b[39;00m\n\u001b[0;32m      2\u001b[0m \u001b[38;5;66;03m#\u001b[39;00m\n\u001b[0;32m      3\u001b[0m \u001b[38;5;66;03m# Author: Taylor Smith <taylor.smith@alkaline-ml.com>\u001b[39;00m\n\u001b[1;32m----> 5\u001b[0m \u001b[38;5;28;01mfrom\u001b[39;00m\u001b[38;5;250m \u001b[39m\u001b[38;5;21;01m.\u001b[39;00m\u001b[38;5;21;01mapprox\u001b[39;00m\u001b[38;5;250m \u001b[39m\u001b[38;5;28;01mimport\u001b[39;00m \u001b[38;5;241m*\u001b[39m\n\u001b[0;32m      6\u001b[0m \u001b[38;5;28;01mfrom\u001b[39;00m\u001b[38;5;250m \u001b[39m\u001b[38;5;21;01m.\u001b[39;00m\u001b[38;5;21;01marima\u001b[39;00m\u001b[38;5;250m \u001b[39m\u001b[38;5;28;01mimport\u001b[39;00m \u001b[38;5;241m*\u001b[39m\n\u001b[0;32m      7\u001b[0m \u001b[38;5;28;01mfrom\u001b[39;00m\u001b[38;5;250m \u001b[39m\u001b[38;5;21;01m.\u001b[39;00m\u001b[38;5;21;01mauto\u001b[39;00m\u001b[38;5;250m \u001b[39m\u001b[38;5;28;01mimport\u001b[39;00m \u001b[38;5;241m*\u001b[39m\n",
      "File \u001b[1;32m~\\AppData\\Local\\Programs\\Python\\Python312\\Lib\\site-packages\\pmdarima\\arima\\approx.py:9\u001b[0m\n\u001b[0;32m      1\u001b[0m \u001b[38;5;66;03m# -*- coding: utf-8 -*-\u001b[39;00m\n\u001b[0;32m      2\u001b[0m \u001b[38;5;66;03m#\u001b[39;00m\n\u001b[0;32m      3\u001b[0m \u001b[38;5;66;03m# Author: Taylor Smith <taylor.smith@alkaline-ml.com>\u001b[39;00m\n\u001b[0;32m      4\u001b[0m \u001b[38;5;66;03m#\u001b[39;00m\n\u001b[0;32m      5\u001b[0m \u001b[38;5;66;03m# R approx function\u001b[39;00m\n\u001b[0;32m      7\u001b[0m \u001b[38;5;28;01mimport\u001b[39;00m\u001b[38;5;250m \u001b[39m\u001b[38;5;21;01mnumpy\u001b[39;00m\u001b[38;5;250m \u001b[39m\u001b[38;5;28;01mas\u001b[39;00m\u001b[38;5;250m \u001b[39m\u001b[38;5;21;01mnp\u001b[39;00m\n\u001b[1;32m----> 9\u001b[0m \u001b[38;5;28;01mfrom\u001b[39;00m\u001b[38;5;250m \u001b[39m\u001b[38;5;21;01m.\u001b[39;00m\u001b[38;5;21;01m.\u001b[39;00m\u001b[38;5;21;01mutils\u001b[39;00m\u001b[38;5;21;01m.\u001b[39;00m\u001b[38;5;21;01marray\u001b[39;00m\u001b[38;5;250m \u001b[39m\u001b[38;5;28;01mimport\u001b[39;00m c, check_endog\n\u001b[0;32m     10\u001b[0m \u001b[38;5;28;01mfrom\u001b[39;00m\u001b[38;5;250m \u001b[39m\u001b[38;5;21;01m.\u001b[39;00m\u001b[38;5;21;01m.\u001b[39;00m\u001b[38;5;21;01mutils\u001b[39;00m\u001b[38;5;250m \u001b[39m\u001b[38;5;28;01mimport\u001b[39;00m get_callable\n\u001b[0;32m     11\u001b[0m \u001b[38;5;28;01mfrom\u001b[39;00m\u001b[38;5;250m \u001b[39m\u001b[38;5;21;01m.\u001b[39;00m\u001b[38;5;21;01m.\u001b[39;00m\u001b[38;5;21;01mcompat\u001b[39;00m\u001b[38;5;21;01m.\u001b[39;00m\u001b[38;5;21;01mnumpy\u001b[39;00m\u001b[38;5;250m \u001b[39m\u001b[38;5;28;01mimport\u001b[39;00m DTYPE\n",
      "File \u001b[1;32m~\\AppData\\Local\\Programs\\Python\\Python312\\Lib\\site-packages\\pmdarima\\utils\\__init__.py:5\u001b[0m\n\u001b[0;32m      1\u001b[0m \u001b[38;5;66;03m# -*- coding: utf-8 -*-\u001b[39;00m\n\u001b[0;32m      2\u001b[0m \u001b[38;5;66;03m#\u001b[39;00m\n\u001b[0;32m      3\u001b[0m \u001b[38;5;66;03m# Author: Taylor Smith <taylor.smith@alkaline-ml.com>\u001b[39;00m\n\u001b[1;32m----> 5\u001b[0m \u001b[38;5;28;01mfrom\u001b[39;00m\u001b[38;5;250m \u001b[39m\u001b[38;5;21;01m.\u001b[39;00m\u001b[38;5;21;01marray\u001b[39;00m\u001b[38;5;250m \u001b[39m\u001b[38;5;28;01mimport\u001b[39;00m \u001b[38;5;241m*\u001b[39m\n\u001b[0;32m      6\u001b[0m \u001b[38;5;28;01mfrom\u001b[39;00m\u001b[38;5;250m \u001b[39m\u001b[38;5;21;01m.\u001b[39;00m\u001b[38;5;21;01mmetaestimators\u001b[39;00m\u001b[38;5;250m \u001b[39m\u001b[38;5;28;01mimport\u001b[39;00m \u001b[38;5;241m*\u001b[39m\n\u001b[0;32m      7\u001b[0m \u001b[38;5;28;01mfrom\u001b[39;00m\u001b[38;5;250m \u001b[39m\u001b[38;5;21;01m.\u001b[39;00m\u001b[38;5;21;01mvisualization\u001b[39;00m\u001b[38;5;250m \u001b[39m\u001b[38;5;28;01mimport\u001b[39;00m \u001b[38;5;241m*\u001b[39m\n",
      "File \u001b[1;32m~\\AppData\\Local\\Programs\\Python\\Python312\\Lib\\site-packages\\pmdarima\\utils\\array.py:13\u001b[0m\n\u001b[0;32m     10\u001b[0m \u001b[38;5;28;01mimport\u001b[39;00m\u001b[38;5;250m \u001b[39m\u001b[38;5;21;01mpandas\u001b[39;00m\u001b[38;5;250m \u001b[39m\u001b[38;5;28;01mas\u001b[39;00m\u001b[38;5;250m \u001b[39m\u001b[38;5;21;01mpd\u001b[39;00m\n\u001b[0;32m     12\u001b[0m \u001b[38;5;28;01mfrom\u001b[39;00m\u001b[38;5;250m \u001b[39m\u001b[38;5;21;01m.\u001b[39;00m\u001b[38;5;21;01m.\u001b[39;00m\u001b[38;5;21;01mcompat\u001b[39;00m\u001b[38;5;250m \u001b[39m\u001b[38;5;28;01mimport\u001b[39;00m DTYPE\n\u001b[1;32m---> 13\u001b[0m \u001b[38;5;28;01mfrom\u001b[39;00m\u001b[38;5;250m \u001b[39m\u001b[38;5;21;01m.\u001b[39;00m\u001b[38;5;21;01m_array\u001b[39;00m\u001b[38;5;250m \u001b[39m\u001b[38;5;28;01mimport\u001b[39;00m C_intgrt_vec\n\u001b[0;32m     15\u001b[0m __all__ \u001b[38;5;241m=\u001b[39m [\n\u001b[0;32m     16\u001b[0m     \u001b[38;5;124m'\u001b[39m\u001b[38;5;124mas_series\u001b[39m\u001b[38;5;124m'\u001b[39m,\n\u001b[0;32m     17\u001b[0m     \u001b[38;5;124m'\u001b[39m\u001b[38;5;124mc\u001b[39m\u001b[38;5;124m'\u001b[39m,\n\u001b[1;32m   (...)\u001b[0m\n\u001b[0;32m     22\u001b[0m     \u001b[38;5;124m'\u001b[39m\u001b[38;5;124mis_iterable\u001b[39m\u001b[38;5;124m'\u001b[39m\n\u001b[0;32m     23\u001b[0m ]\n\u001b[0;32m     26\u001b[0m \u001b[38;5;28;01mdef\u001b[39;00m\u001b[38;5;250m \u001b[39m\u001b[38;5;21mas_series\u001b[39m(x, \u001b[38;5;241m*\u001b[39m\u001b[38;5;241m*\u001b[39mkwargs):\n",
      "File \u001b[1;32m~\\AppData\\Local\\Programs\\Python\\Python312\\Lib\\site-packages\\pmdarima\\utils\\_array.pyx:1\u001b[0m, in \u001b[0;36minit pmdarima.utils._array\u001b[1;34m()\u001b[0m\n",
      "\u001b[1;31mValueError\u001b[0m: numpy.dtype size changed, may indicate binary incompatibility. Expected 96 from C header, got 88 from PyObject"
     ]
    }
   ],
   "source": [
    "import datetime\n",
    "import matplotlib.pyplot as plt\n",
    "import numpy as np\n",
    "import optuna\n",
    "import pandas as pd\n",
    "import yfinance as yf\n",
    "\n",
    "import pandas_datareader as pdr\n",
    "from prophet import Prophet\n",
    "from sklearn.metrics import mean_absolute_error, mean_squared_error\n",
    "from sklearn.model_selection import train_test_split\n",
    "from statsmodels.tsa.arima.model import ARIMA\n",
    "from xgboost import XGBRegressor\n",
    "\n",
    "from pmdarima import auto_arima\n",
    "\n",
    "import warnings\n",
    "warnings.filterwarnings(\"ignore\")\n",
    "\n",
    "plt.style.use('ggplot')\n",
    "######################################################################################\n",
    "stock_data = yf.download('AAPL') # you can choose whatever stockticker you want\n",
    "\n",
    "num_days_pred=30 # Number of days you want to predict in the future the higher the less accuracy\n",
    "######################################################################################\n",
    "\n",
    "# Here I choose to only use the last 3 years of stock data \n",
    "slice = int(len(stock_data)- 356*3)\n",
    "stock_data = stock_data.iloc[slice:]\n",
    "\n",
    "# Here I Choose to continue with only Close value column since that is what we care about \n",
    "stock_data.drop(columns=['Open', 'High', 'Low', 'Adj Close', 'Volume'],inplace=True)\n",
    "\n",
    "\n",
    "# Function to calculate mean absolute error percentage\n",
    "def mean_absolute_percentage_error(y_true, y_pred): \n",
    "    \"\"\"Calculates MAPE given y_true and y_pred\"\"\"\n",
    "    y_true, y_pred = np.array(y_true), np.array(y_pred)\n",
    "    return np.mean(np.abs((y_true - y_pred) / y_true)) * 100\n",
    "\n",
    "def add_lags(df,num_days_pred=num_days_pred):\n",
    "    target = 'Close'\n",
    "    df['lag1'] = df[target].shift(num_days_pred)  \n",
    "    df['lag2'] = df[target].shift(num_days_pred*2)    \n",
    "    df['lag3'] = df[target].shift(num_days_pred*3)    \n",
    "    df['lag4'] = df[target].shift(num_days_pred*4)    \n",
    "    df['lag5'] = df[target].shift(num_days_pred*5)\n",
    "    df['lag6'] = df[target].shift(num_days_pred*6)\n",
    "    df['lag7'] = df[target].shift(num_days_pred*7)\n",
    "    df['lag8'] = df[target].shift(num_days_pred*8)\n",
    "    df['lag9'] = df[target].shift(num_days_pred*9)\n",
    "    df['lag10'] = df[target].shift(num_days_pred*10)\n",
    "    df['lag11'] = df[target].shift(num_days_pred*11)\n",
    "    df['lag12'] = df[target].shift(num_days_pred*12)\n",
    "\n",
    "\n",
    "\n",
    "    return df\n",
    "\n",
    "def create_features(df):\n",
    "    \"\"\"\n",
    "    Create time series features based on time series index.\n",
    "    \"\"\"\n",
    "    df = df.copy()\n",
    "    df['hour'] = df.index.hour\n",
    "    df['dayofweek'] = df.index.dayofweek\n",
    "    df['quarter'] = df.index.quarter\n",
    "    df['month'] = df.index.month\n",
    "    df['year'] = df.index.year\n",
    "    df['dayofyear'] = df.index.dayofyear\n",
    "    df['dayofmonth'] = df.index.day\n",
    "    df['weekofyear'] = df.index.isocalendar().week\n",
    "    return df"
   ]
  },
  {
   "cell_type": "markdown",
   "id": "b5b45318",
   "metadata": {
    "papermill": {
     "duration": 0.013575,
     "end_time": "2024-03-15T04:41:50.588516",
     "exception": false,
     "start_time": "2024-03-15T04:41:50.574941",
     "status": "completed"
    },
    "tags": []
   },
   "source": [
    "# XGBOOST"
   ]
  },
  {
   "cell_type": "code",
   "execution_count": null,
   "id": "718734ca",
   "metadata": {
    "papermill": {
     "duration": 0.022877,
     "end_time": "2024-03-15T04:41:50.625377",
     "exception": false,
     "start_time": "2024-03-15T04:41:50.602500",
     "status": "completed"
    },
    "tags": []
   },
   "outputs": [],
   "source": [
    "df_xgb = stock_data.copy()"
   ]
  },
  {
   "cell_type": "code",
   "execution_count": null,
   "id": "da926f7d",
   "metadata": {
    "papermill": {
     "duration": 0.031803,
     "end_time": "2024-03-15T04:41:50.671131",
     "exception": false,
     "start_time": "2024-03-15T04:41:50.639328",
     "status": "completed"
    },
    "tags": []
   },
   "outputs": [],
   "source": [
    "def xgboostmodel(df_xgb,add_lags,create_features,num_days_pred=num_days_pred):\n",
    "\n",
    "    df_xgb = create_features(df_xgb)\n",
    "    df_xgb = add_lags(df_xgb)\n",
    "    \n",
    "    X = df_xgb.drop(columns='Close')\n",
    "    y = df_xgb['Close']\n",
    "    return X,y\n",
    "X,y = xgboostmodel(df_xgb ,add_lags,create_features,num_days_pred=30)"
   ]
  },
  {
   "cell_type": "code",
   "execution_count": null,
   "id": "0fccc4fa",
   "metadata": {
    "papermill": {
     "duration": 60.747984,
     "end_time": "2024-03-15T04:42:51.432982",
     "exception": false,
     "start_time": "2024-03-15T04:41:50.684998",
     "status": "completed"
    },
    "tags": []
   },
   "outputs": [],
   "source": [
    "# Define objective function for Optuna\n",
    "def objective(trial):\n",
    "    # Define hyperparameters to search\n",
    "    param = {\n",
    "        'objective': 'reg:squarederror',\n",
    "        'eval_metric': 'rmse',\n",
    "        'n_estimators': trial.suggest_int('n_estimators', 100, 1000),\n",
    "        'max_depth': trial.suggest_int('max_depth', 3, 10),\n",
    "        'learning_rate': trial.suggest_float('learning_rate', 0.01, 0.1),\n",
    "        'subsample': trial.suggest_float('subsample', 0.6, 1.0),\n",
    "        'colsample_bytree': trial.suggest_float('colsample_bytree', 0.6, 1.0),\n",
    "        'reg_alpha': trial.suggest_float('reg_alpha', 0, 10),\n",
    "        'reg_lambda': trial.suggest_float('reg_lambda', 0, 10),\n",
    "        'verbosity': 0,\n",
    "        #'tree_method': 'gpu_hist',\n",
    "    }\n",
    "    \n",
    "    # Initialize XGBoost regressor with the suggested parameters\n",
    "    xgb = XGBRegressor(**param)\n",
    "    \n",
    "    # Fit the model on training data\n",
    "    xgb.fit(X_train, y_train)\n",
    "    \n",
    "    # Predict on the validation set\n",
    "    y_pred = xgb.predict(X_test)\n",
    "    \n",
    "    # Calculate RMSE\n",
    "    rmse = np.sqrt(mean_squared_error(y_test, y_pred))\n",
    "    \n",
    "    return rmse\n",
    "\n",
    "\n",
    "X_train, X_test, y_train, y_test = train_test_split(X, y, test_size=0.3, random_state=42)\n",
    "# Perform hyperparameter optimization using Optuna\n",
    "study = optuna.create_study(direction='minimize')\n",
    "study.optimize(objective, n_trials=50)\n",
    "\n",
    "# Print the best trial and parameters found\n",
    "print(\"Best trial:\")\n",
    "best_trial = study.best_trial\n",
    "print(f\"  Value: {best_trial.value}\")\n",
    "print(\"  Params: \")\n",
    "for key, value in best_trial.params.items():\n",
    "    print(f\"    {key}: {value}\")\n",
    "\n",
    "# Use the best parameters to train the final model\n",
    "best_params = best_trial.params\n",
    "xgb_best = XGBRegressor(**best_params)\n",
    "xgb_best.fit(X_train, y_train)\n",
    "\n",
    "# Make predictions on the test set\n",
    "y_pred_test = xgb_best.predict(X_test)\n",
    "\n",
    "# Calculate RMSE on the test set\n",
    "rmse_test = np.sqrt(mean_squared_error(y_test, y_pred_test))\n",
    "print(\"Test RMSE:\", rmse_test)"
   ]
  },
  {
   "cell_type": "markdown",
   "id": "e2650482",
   "metadata": {
    "papermill": {
     "duration": 0.016178,
     "end_time": "2024-03-15T04:42:51.465991",
     "exception": false,
     "start_time": "2024-03-15T04:42:51.449813",
     "status": "completed"
    },
    "tags": []
   },
   "source": [
    "## Evaluate"
   ]
  },
  {
   "cell_type": "code",
   "execution_count": null,
   "id": "315005a0",
   "metadata": {
    "papermill": {
     "duration": 0.038258,
     "end_time": "2024-03-15T04:42:51.520718",
     "exception": false,
     "start_time": "2024-03-15T04:42:51.482460",
     "status": "completed"
    },
    "tags": []
   },
   "outputs": [],
   "source": [
    "y_pred_test_xgb = xgb_best.predict(X_test)\n",
    "xgb_loss = mean_absolute_percentage_error(y_test, y_pred_test_xgb) \n",
    "print(f\"ERROR PERCENT = { mean_absolute_percentage_error(y_test, y_pred_test_xgb) }% \")"
   ]
  },
  {
   "cell_type": "code",
   "execution_count": null,
   "id": "347cc090",
   "metadata": {
    "papermill": {
     "duration": 0.443181,
     "end_time": "2024-03-15T04:42:51.981894",
     "exception": false,
     "start_time": "2024-03-15T04:42:51.538713",
     "status": "completed"
    },
    "tags": []
   },
   "outputs": [],
   "source": [
    "plt.figure(figsize=(10, 6))\n",
    "plt.scatter(X_test.index, y_test, color='blue', label='Actual')\n",
    "plt.scatter(X_test.index, y_pred_test_xgb , color='red', label='Predicted')\n",
    "plt.title('Actual vs Predicted Values')\n",
    "plt.xlabel('Time')\n",
    "plt.ylabel('Value')\n",
    "plt.legend()\n",
    "plt.show()"
   ]
  },
  {
   "cell_type": "code",
   "execution_count": null,
   "id": "cf0905ac",
   "metadata": {
    "papermill": {
     "duration": 0.365842,
     "end_time": "2024-03-15T04:42:52.366256",
     "exception": false,
     "start_time": "2024-03-15T04:42:52.000414",
     "status": "completed"
    },
    "tags": []
   },
   "outputs": [],
   "source": [
    "# Let's ZoomIn\n",
    "plt.figure(figsize=(10, 6))\n",
    "plt.scatter(X_test.index[:30], y_test[:30], color='blue', label='Actual')\n",
    "plt.scatter(X_test.index[:30], y_pred_test_xgb[:30] , color='red', label='Predicted')\n",
    "plt.title('Actual vs Predicted Values')\n",
    "plt.xlabel('Time')\n",
    "plt.ylabel('Value')\n",
    "plt.legend()\n",
    "plt.show()"
   ]
  },
  {
   "cell_type": "code",
   "execution_count": null,
   "id": "67d4ff05",
   "metadata": {
    "papermill": {
     "duration": 0.324567,
     "end_time": "2024-03-15T04:42:52.708602",
     "exception": false,
     "start_time": "2024-03-15T04:42:52.384035",
     "status": "completed"
    },
    "tags": []
   },
   "outputs": [],
   "source": [
    "from xgboost import plot_importance\n",
    "\n",
    "# Plot feature importance\n",
    "plt.figure(figsize=(10, 6))\n",
    "plot_importance(xgb_best, max_num_features=20)  # Adjust max_num_features as needed\n",
    "plt.title(\"Feature Importance\")\n",
    "plt.show()"
   ]
  },
  {
   "cell_type": "markdown",
   "id": "ad47de94",
   "metadata": {
    "papermill": {
     "duration": 0.018979,
     "end_time": "2024-03-15T04:42:52.746497",
     "exception": false,
     "start_time": "2024-03-15T04:42:52.727518",
     "status": "completed"
    },
    "tags": []
   },
   "source": [
    "## Predict In The Future"
   ]
  },
  {
   "cell_type": "code",
   "execution_count": null,
   "id": "6921e378",
   "metadata": {
    "papermill": {
     "duration": 0.027296,
     "end_time": "2024-03-15T04:42:52.792852",
     "exception": false,
     "start_time": "2024-03-15T04:42:52.765556",
     "status": "completed"
    },
    "tags": []
   },
   "outputs": [],
   "source": [
    "start = df_xgb.index.max()\n",
    "end = start + pd.Timedelta(days=num_days_pred)"
   ]
  },
  {
   "cell_type": "code",
   "execution_count": null,
   "id": "0346b5d6",
   "metadata": {
    "papermill": {
     "duration": 0.044521,
     "end_time": "2024-03-15T04:42:52.856741",
     "exception": false,
     "start_time": "2024-03-15T04:42:52.812220",
     "status": "completed"
    },
    "tags": []
   },
   "outputs": [],
   "source": [
    "future = pd.date_range(start=start,end=end,freq='1d')\n",
    "future_df = pd.DataFrame(index=future)\n",
    "future_df['isFuture']= True\n",
    "df_xgb['isFuture']= False\n",
    "df_and_future = pd.concat([df_xgb,future_df])\n",
    "df_and_future = create_features(df_and_future)\n",
    "df_and_future = add_lags(df_and_future)\n",
    "future_w_features = df_and_future.query('isFuture').copy()"
   ]
  },
  {
   "cell_type": "code",
   "execution_count": null,
   "id": "278ccebe",
   "metadata": {
    "papermill": {
     "duration": 0.041896,
     "end_time": "2024-03-15T04:42:52.917470",
     "exception": false,
     "start_time": "2024-03-15T04:42:52.875574",
     "status": "completed"
    },
    "tags": []
   },
   "outputs": [],
   "source": [
    "future_w_features['pred'] = xgb_best.predict(future_w_features.drop(columns=['Close','isFuture']))"
   ]
  },
  {
   "cell_type": "code",
   "execution_count": null,
   "id": "830479cc",
   "metadata": {
    "papermill": {
     "duration": 0.037024,
     "end_time": "2024-03-15T04:42:52.973616",
     "exception": false,
     "start_time": "2024-03-15T04:42:52.936592",
     "status": "completed"
    },
    "tags": []
   },
   "outputs": [],
   "source": [
    "prediction_xgb = pd.DataFrame(future_w_features['pred'])\n",
    "prediction_xgb"
   ]
  },
  {
   "cell_type": "markdown",
   "id": "71903ce7",
   "metadata": {
    "papermill": {
     "duration": 0.072856,
     "end_time": "2024-03-15T04:42:53.065312",
     "exception": false,
     "start_time": "2024-03-15T04:42:52.992456",
     "status": "completed"
    },
    "tags": []
   },
   "source": [
    "# Prophet"
   ]
  },
  {
   "cell_type": "code",
   "execution_count": null,
   "id": "46fb3da5",
   "metadata": {
    "papermill": {
     "duration": 0.027981,
     "end_time": "2024-03-15T04:42:53.112386",
     "exception": false,
     "start_time": "2024-03-15T04:42:53.084405",
     "status": "completed"
    },
    "tags": []
   },
   "outputs": [],
   "source": [
    "df_prophet = stock_data.copy()"
   ]
  },
  {
   "cell_type": "markdown",
   "id": "720c5fa3",
   "metadata": {
    "papermill": {
     "duration": 0.019632,
     "end_time": "2024-03-15T04:42:53.151658",
     "exception": false,
     "start_time": "2024-03-15T04:42:53.132026",
     "status": "completed"
    },
    "tags": []
   },
   "source": [
    "Split"
   ]
  },
  {
   "cell_type": "code",
   "execution_count": null,
   "id": "4360cfaf",
   "metadata": {
    "papermill": {
     "duration": 0.030119,
     "end_time": "2024-03-15T04:42:53.200825",
     "exception": false,
     "start_time": "2024-03-15T04:42:53.170706",
     "status": "completed"
    },
    "tags": []
   },
   "outputs": [],
   "source": [
    "split_date = df_prophet.index[int(len(df_prophet) * 0.8)]\n",
    "train = df_prophet.loc[df_prophet.index <= split_date].copy()\n",
    "test = df_prophet.loc[df_prophet.index > split_date].copy()"
   ]
  },
  {
   "cell_type": "markdown",
   "id": "5929121a",
   "metadata": {
    "papermill": {
     "duration": 0.018992,
     "end_time": "2024-03-15T04:42:53.239068",
     "exception": false,
     "start_time": "2024-03-15T04:42:53.220076",
     "status": "completed"
    },
    "tags": []
   },
   "source": [
    "Preprocess"
   ]
  },
  {
   "cell_type": "code",
   "execution_count": null,
   "id": "33d1fa60",
   "metadata": {
    "papermill": {
     "duration": 0.029493,
     "end_time": "2024-03-15T04:42:53.288025",
     "exception": false,
     "start_time": "2024-03-15T04:42:53.258532",
     "status": "completed"
    },
    "tags": []
   },
   "outputs": [],
   "source": [
    "# Format data for prophet model using ds and y\n",
    "train_prophet = train.reset_index() \\\n",
    "    .rename(columns={'Date':'ds',\n",
    "                     'Close':'y'})"
   ]
  },
  {
   "cell_type": "code",
   "execution_count": null,
   "id": "f1a9d862",
   "metadata": {
    "papermill": {
     "duration": 0.034657,
     "end_time": "2024-03-15T04:42:53.342527",
     "exception": false,
     "start_time": "2024-03-15T04:42:53.307870",
     "status": "completed"
    },
    "tags": []
   },
   "outputs": [],
   "source": [
    "train_prophet "
   ]
  },
  {
   "cell_type": "markdown",
   "id": "be9be3b8",
   "metadata": {
    "papermill": {
     "duration": 0.018808,
     "end_time": "2024-03-15T04:42:53.380493",
     "exception": false,
     "start_time": "2024-03-15T04:42:53.361685",
     "status": "completed"
    },
    "tags": []
   },
   "source": [
    "Training"
   ]
  },
  {
   "cell_type": "code",
   "execution_count": null,
   "id": "7ec4b845",
   "metadata": {
    "papermill": {
     "duration": 0.66233,
     "end_time": "2024-03-15T04:42:54.062204",
     "exception": false,
     "start_time": "2024-03-15T04:42:53.399874",
     "status": "completed"
    },
    "tags": []
   },
   "outputs": [],
   "source": [
    "prophet = Prophet()\n",
    "prophet.fit(train_prophet)"
   ]
  },
  {
   "cell_type": "code",
   "execution_count": null,
   "id": "ee3b29b6",
   "metadata": {
    "papermill": {
     "duration": 0.463981,
     "end_time": "2024-03-15T04:42:54.547601",
     "exception": false,
     "start_time": "2024-03-15T04:42:54.083620",
     "status": "completed"
    },
    "tags": []
   },
   "outputs": [],
   "source": [
    "# Format data for prophet model using ds and y\n",
    "test_prophet = test.reset_index() \\\n",
    "    .rename(columns={'Date':'ds',\n",
    "                     'Close':'y'})\n",
    "test_predict = prophet.predict(test_prophet)"
   ]
  },
  {
   "cell_type": "markdown",
   "id": "08ba55ad",
   "metadata": {
    "papermill": {
     "duration": 0.020175,
     "end_time": "2024-03-15T04:42:54.587454",
     "exception": false,
     "start_time": "2024-03-15T04:42:54.567279",
     "status": "completed"
    },
    "tags": []
   },
   "source": [
    "Evaluating"
   ]
  },
  {
   "cell_type": "code",
   "execution_count": null,
   "id": "836f8a7f",
   "metadata": {
    "papermill": {
     "duration": 0.029879,
     "end_time": "2024-03-15T04:42:54.636994",
     "exception": false,
     "start_time": "2024-03-15T04:42:54.607115",
     "status": "completed"
    },
    "tags": []
   },
   "outputs": [],
   "source": [
    "porphet_loss = mean_absolute_percentage_error(test['Close'],test_predict['yhat'] )\n",
    "print(f\"ERROR PERCENT = { mean_absolute_percentage_error(test['Close'],test_predict['yhat'] ) }% \")"
   ]
  },
  {
   "cell_type": "code",
   "execution_count": null,
   "id": "706ea515",
   "metadata": {
    "papermill": {
     "duration": 0.357998,
     "end_time": "2024-03-15T04:42:55.014835",
     "exception": false,
     "start_time": "2024-03-15T04:42:54.656837",
     "status": "completed"
    },
    "tags": []
   },
   "outputs": [],
   "source": [
    "plt.figure(figsize=(10, 6))\n",
    "plt.scatter(test.index, test['Close'], color='blue', label='Actual')\n",
    "plt.scatter(test.index, test_predict['yhat'] , color='red', label='Predicted')\n",
    "plt.title('Actual vs Predicted Values')\n",
    "plt.xlabel('Time')\n",
    "plt.ylabel('Value')\n",
    "plt.legend()\n",
    "plt.show()"
   ]
  },
  {
   "cell_type": "code",
   "execution_count": null,
   "id": "95d80252",
   "metadata": {
    "papermill": {
     "duration": 1.16859,
     "end_time": "2024-03-15T04:42:56.205000",
     "exception": false,
     "start_time": "2024-03-15T04:42:55.036410",
     "status": "completed"
    },
    "tags": []
   },
   "outputs": [],
   "source": [
    "prophet.plot_components(test_predict)"
   ]
  },
  {
   "cell_type": "markdown",
   "id": "5ee8fcc8",
   "metadata": {
    "papermill": {
     "duration": 0.022173,
     "end_time": "2024-03-15T04:42:56.249256",
     "exception": false,
     "start_time": "2024-03-15T04:42:56.227083",
     "status": "completed"
    },
    "tags": []
   },
   "source": [
    "Predicting in the Future"
   ]
  },
  {
   "cell_type": "code",
   "execution_count": null,
   "id": "1610de6c",
   "metadata": {
    "papermill": {
     "duration": 0.508664,
     "end_time": "2024-03-15T04:42:56.779934",
     "exception": false,
     "start_time": "2024-03-15T04:42:56.271270",
     "status": "completed"
    },
    "tags": []
   },
   "outputs": [],
   "source": [
    "prophet_data = df_prophet.reset_index() \\\n",
    "    .rename(columns={'Date':'ds',\n",
    "                     'Close':'y'})\n",
    "prophet = Prophet()\n",
    "prophet.fit(prophet_data)"
   ]
  },
  {
   "cell_type": "code",
   "execution_count": null,
   "id": "395fc82f",
   "metadata": {
    "papermill": {
     "duration": 0.279323,
     "end_time": "2024-03-15T04:42:57.082065",
     "exception": false,
     "start_time": "2024-03-15T04:42:56.802742",
     "status": "completed"
    },
    "tags": []
   },
   "outputs": [],
   "source": [
    "future = prophet.make_future_dataframe(periods=num_days_pred, freq='d', include_history=False)\n",
    "forecast = prophet.predict(future)\n",
    "forecast_prophet = forecast[['ds','yhat']]\n",
    "forecast_prophet.index = forecast_prophet.pop('ds')"
   ]
  },
  {
   "cell_type": "code",
   "execution_count": null,
   "id": "c7807b4b",
   "metadata": {
    "papermill": {
     "duration": 0.038382,
     "end_time": "2024-03-15T04:42:57.142496",
     "exception": false,
     "start_time": "2024-03-15T04:42:57.104114",
     "status": "completed"
    },
    "tags": []
   },
   "outputs": [],
   "source": [
    "forecast_prophet"
   ]
  },
  {
   "cell_type": "markdown",
   "id": "0a0d3646",
   "metadata": {
    "papermill": {
     "duration": 0.023428,
     "end_time": "2024-03-15T04:42:57.189414",
     "exception": false,
     "start_time": "2024-03-15T04:42:57.165986",
     "status": "completed"
    },
    "tags": []
   },
   "source": [
    "# ARIMA"
   ]
  },
  {
   "cell_type": "code",
   "execution_count": null,
   "id": "83aeec4e",
   "metadata": {
    "papermill": {
     "duration": 0.031043,
     "end_time": "2024-03-15T04:42:57.244042",
     "exception": false,
     "start_time": "2024-03-15T04:42:57.212999",
     "status": "completed"
    },
    "tags": []
   },
   "outputs": [],
   "source": [
    "df_arima = stock_data.copy()"
   ]
  },
  {
   "cell_type": "markdown",
   "id": "c1557a01",
   "metadata": {
    "papermill": {
     "duration": 0.022486,
     "end_time": "2024-03-15T04:42:57.290337",
     "exception": false,
     "start_time": "2024-03-15T04:42:57.267851",
     "status": "completed"
    },
    "tags": []
   },
   "source": [
    "Split"
   ]
  },
  {
   "cell_type": "code",
   "execution_count": null,
   "id": "47ddd6a2",
   "metadata": {
    "papermill": {
     "duration": 0.03548,
     "end_time": "2024-03-15T04:42:57.350401",
     "exception": false,
     "start_time": "2024-03-15T04:42:57.314921",
     "status": "completed"
    },
    "tags": []
   },
   "outputs": [],
   "source": [
    "split_date = df_prophet.index[int(len(df_arima) * 0.8)]\n",
    "train_arima = df_arima.loc[df_arima.index <= split_date].copy()\n",
    "test_arima = df_arima.loc[df_arima.index > split_date].copy()"
   ]
  },
  {
   "cell_type": "markdown",
   "id": "927ebac3",
   "metadata": {
    "papermill": {
     "duration": 0.022025,
     "end_time": "2024-03-15T04:42:57.395655",
     "exception": false,
     "start_time": "2024-03-15T04:42:57.373630",
     "status": "completed"
    },
    "tags": []
   },
   "source": [
    "hyperparamter tuning "
   ]
  },
  {
   "cell_type": "code",
   "execution_count": null,
   "id": "3e419dfb",
   "metadata": {
    "papermill": {
     "duration": 1.868303,
     "end_time": "2024-03-15T04:42:59.288379",
     "exception": false,
     "start_time": "2024-03-15T04:42:57.420076",
     "status": "completed"
    },
    "tags": []
   },
   "outputs": [],
   "source": [
    "# Try to find the best parameters for arima model \n",
    "stepwise_fit = auto_arima(train_arima['Close'],trace=True,suppress_warnings=True)\n",
    "# assign the parameter to \"best_order\" variable\n",
    "best_order = stepwise_fit.get_params()['order']"
   ]
  },
  {
   "cell_type": "markdown",
   "id": "b6b8a610",
   "metadata": {
    "papermill": {
     "duration": 0.022573,
     "end_time": "2024-03-15T04:42:59.333776",
     "exception": false,
     "start_time": "2024-03-15T04:42:59.311203",
     "status": "completed"
    },
    "tags": []
   },
   "source": [
    "train"
   ]
  },
  {
   "cell_type": "code",
   "execution_count": null,
   "id": "d7e7db8a",
   "metadata": {
    "papermill": {
     "duration": 0.060175,
     "end_time": "2024-03-15T04:42:59.417083",
     "exception": false,
     "start_time": "2024-03-15T04:42:59.356908",
     "status": "completed"
    },
    "tags": []
   },
   "outputs": [],
   "source": [
    "arima = ARIMA(train_arima['Close'], order=best_order)\n",
    "arima = arima.fit()"
   ]
  },
  {
   "cell_type": "markdown",
   "id": "5e10a8e9",
   "metadata": {
    "papermill": {
     "duration": 0.021943,
     "end_time": "2024-03-15T04:42:59.461611",
     "exception": false,
     "start_time": "2024-03-15T04:42:59.439668",
     "status": "completed"
    },
    "tags": []
   },
   "source": [
    "evaluate"
   ]
  },
  {
   "cell_type": "code",
   "execution_count": null,
   "id": "d9ff9537",
   "metadata": {
    "papermill": {
     "duration": 0.029458,
     "end_time": "2024-03-15T04:42:59.513965",
     "exception": false,
     "start_time": "2024-03-15T04:42:59.484507",
     "status": "completed"
    },
    "tags": []
   },
   "outputs": [],
   "source": [
    "start = len(train_arima)\n",
    "end = len(test_arima) + len(train_arima)"
   ]
  },
  {
   "cell_type": "code",
   "execution_count": null,
   "id": "aace1a42",
   "metadata": {
    "papermill": {
     "duration": 0.037023,
     "end_time": "2024-03-15T04:42:59.573154",
     "exception": false,
     "start_time": "2024-03-15T04:42:59.536131",
     "status": "completed"
    },
    "tags": []
   },
   "outputs": [],
   "source": [
    "pred_arima = arima.predict(start=start,end=end-1)"
   ]
  },
  {
   "cell_type": "code",
   "execution_count": null,
   "id": "8b901a0e",
   "metadata": {
    "papermill": {
     "duration": 0.030336,
     "end_time": "2024-03-15T04:42:59.626304",
     "exception": false,
     "start_time": "2024-03-15T04:42:59.595968",
     "status": "completed"
    },
    "tags": []
   },
   "outputs": [],
   "source": [
    "pred_arima.index = test_arima.index"
   ]
  },
  {
   "cell_type": "code",
   "execution_count": null,
   "id": "60a6fb6b",
   "metadata": {
    "papermill": {
     "duration": 0.323563,
     "end_time": "2024-03-15T04:42:59.972521",
     "exception": false,
     "start_time": "2024-03-15T04:42:59.648958",
     "status": "completed"
    },
    "tags": []
   },
   "outputs": [],
   "source": [
    "pred_arima.plot()"
   ]
  },
  {
   "cell_type": "code",
   "execution_count": null,
   "id": "fa1b4edf",
   "metadata": {
    "papermill": {
     "duration": 0.035826,
     "end_time": "2024-03-15T04:43:00.031838",
     "exception": false,
     "start_time": "2024-03-15T04:42:59.996012",
     "status": "completed"
    },
    "tags": []
   },
   "outputs": [],
   "source": [
    "arima_loss = mean_absolute_percentage_error(test_arima['Close'],pred_arima )\n",
    "print(f\"ERROR PERCENT = { mean_absolute_percentage_error(test_arima['Close'],pred_arima ) }% \")"
   ]
  },
  {
   "cell_type": "markdown",
   "id": "1a6229f4",
   "metadata": {
    "papermill": {
     "duration": 0.024073,
     "end_time": "2024-03-15T04:43:00.079252",
     "exception": false,
     "start_time": "2024-03-15T04:43:00.055179",
     "status": "completed"
    },
    "tags": []
   },
   "source": [
    "predict into future"
   ]
  },
  {
   "cell_type": "code",
   "execution_count": null,
   "id": "e852b8db",
   "metadata": {
    "papermill": {
     "duration": 14.403946,
     "end_time": "2024-03-15T04:43:14.506891",
     "exception": false,
     "start_time": "2024-03-15T04:43:00.102945",
     "status": "completed"
    },
    "tags": []
   },
   "outputs": [],
   "source": [
    "# Try to find the best parameters for arima model \n",
    "stepwise_fit = auto_arima(df_arima['Close'],trace=True,suppress_warnings=True)\n",
    "# assign the parameter to \"best_order\" variable\n",
    "best_order = stepwise_fit.get_params()['order']\n",
    "\n",
    "arima = ARIMA(df_arima['Close'], order=best_order)\n",
    "arima = arima.fit()"
   ]
  },
  {
   "cell_type": "code",
   "execution_count": null,
   "id": "75f0427b",
   "metadata": {
    "papermill": {
     "duration": 0.043918,
     "end_time": "2024-03-15T04:43:14.585037",
     "exception": false,
     "start_time": "2024-03-15T04:43:14.541119",
     "status": "completed"
    },
    "tags": []
   },
   "outputs": [],
   "source": [
    "start = len(df_arima)\n",
    "end = len(df_arima) + num_days_pred\n",
    "arima_forecast = arima.predict(start=start,end=end)"
   ]
  },
  {
   "cell_type": "code",
   "execution_count": null,
   "id": "76ac9793",
   "metadata": {
    "papermill": {
     "duration": 0.0326,
     "end_time": "2024-03-15T04:43:14.650755",
     "exception": false,
     "start_time": "2024-03-15T04:43:14.618155",
     "status": "completed"
    },
    "tags": []
   },
   "outputs": [],
   "source": [
    "start = df_arima.index.max()\n",
    "end = start + pd.Timedelta(days=num_days_pred)\n",
    "arima_forecast.index = pd.date_range(start, end, freq='1d')"
   ]
  },
  {
   "cell_type": "code",
   "execution_count": null,
   "id": "04f1bcbd",
   "metadata": {
    "papermill": {
     "duration": 0.034216,
     "end_time": "2024-03-15T04:43:14.709307",
     "exception": false,
     "start_time": "2024-03-15T04:43:14.675091",
     "status": "completed"
    },
    "tags": []
   },
   "outputs": [],
   "source": [
    "arima_forecast = pd.DataFrame(arima_forecast)"
   ]
  },
  {
   "cell_type": "markdown",
   "id": "bc3dfc4f",
   "metadata": {
    "papermill": {
     "duration": 0.024235,
     "end_time": "2024-03-15T04:43:14.758251",
     "exception": false,
     "start_time": "2024-03-15T04:43:14.734016",
     "status": "completed"
    },
    "tags": []
   },
   "source": [
    "# Communicate the results"
   ]
  },
  {
   "cell_type": "code",
   "execution_count": null,
   "id": "9164a877",
   "metadata": {
    "papermill": {
     "duration": 0.537937,
     "end_time": "2024-03-15T04:43:15.321954",
     "exception": false,
     "start_time": "2024-03-15T04:43:14.784017",
     "status": "completed"
    },
    "tags": []
   },
   "outputs": [],
   "source": [
    "fig, ax  = plt.subplots(figsize=(10,5))\n",
    "arima_forecast.plot(color='orange',ax=ax)\n",
    "prediction_xgb.plot(color = 'blue',ax=ax)\n",
    "forecast_prophet.plot(color = 'red',ax=ax)\n",
    "plt.legend(['Arima','XGB','Prophet'])\n",
    "plt.xlabel('Time')\n",
    "plt.ylabel('Close Price')\n",
    "plt.title(f\"Price Prediction in the Next {num_days_pred} Days\");"
   ]
  },
  {
   "cell_type": "code",
   "execution_count": null,
   "id": "55d10061",
   "metadata": {
    "papermill": {
     "duration": 0.034119,
     "end_time": "2024-03-15T04:43:15.381099",
     "exception": false,
     "start_time": "2024-03-15T04:43:15.346980",
     "status": "completed"
    },
    "tags": []
   },
   "outputs": [],
   "source": [
    "print(f\"XGB Acc : {100-xgb_loss} \\nArima Acc : {100-arima_loss}\\nProphet Acc : {100- porphet_loss}\")"
   ]
  }
 ],
 "metadata": {
  "kaggle": {
   "accelerator": "none",
   "dataSources": [
    {
     "datasetId": 4113746,
     "sourceId": 7137832,
     "sourceType": "datasetVersion"
    },
    {
     "datasetId": 1387282,
     "sourceId": 2312307,
     "sourceType": "datasetVersion"
    },
    {
     "datasetId": 4538,
     "sourceId": 7213,
     "sourceType": "datasetVersion"
    },
    {
     "datasetId": 854,
     "sourceId": 1575,
     "sourceType": "datasetVersion"
    },
    {
     "datasetId": 541298,
     "sourceId": 1054465,
     "sourceType": "datasetVersion"
    },
    {
     "datasetId": 516765,
     "sourceId": 1804596,
     "sourceType": "datasetVersion"
    },
    {
     "datasetId": 695933,
     "sourceId": 1217821,
     "sourceType": "datasetVersion"
    },
    {
     "datasetId": 1436765,
     "sourceId": 3358622,
     "sourceType": "datasetVersion"
    },
    {
     "datasetId": 1908,
     "sourceId": 17155,
     "sourceType": "datasetVersion"
    },
    {
     "sourceId": 117825740,
     "sourceType": "kernelVersion"
    },
    {
     "sourceId": 2586767,
     "sourceType": "kernelVersion"
    },
    {
     "sourceId": 2395222,
     "sourceType": "kernelVersion"
    },
    {
     "sourceId": 4287243,
     "sourceType": "kernelVersion"
    },
    {
     "sourceId": 50878731,
     "sourceType": "kernelVersion"
    },
    {
     "sourceId": 1161410,
     "sourceType": "kernelVersion"
    },
    {
     "sourceId": 1008777,
     "sourceType": "kernelVersion"
    },
    {
     "sourceId": 5605182,
     "sourceType": "kernelVersion"
    }
   ],
   "dockerImageVersionId": 30664,
   "isGpuEnabled": false,
   "isInternetEnabled": true,
   "language": "python",
   "sourceType": "notebook"
  },
  "kernelspec": {
   "display_name": "Python 3.12",
   "language": "python",
   "name": "python312"
  },
  "language_info": {
   "codemirror_mode": {
    "name": "ipython",
    "version": 3
   },
   "file_extension": ".py",
   "mimetype": "text/x-python",
   "name": "python",
   "nbconvert_exporter": "python",
   "pygments_lexer": "ipython3",
   "version": "3.12.8"
  },
  "papermill": {
   "default_parameters": {},
   "duration": 138.699223,
   "end_time": "2024-03-15T04:43:16.328915",
   "environment_variables": {},
   "exception": null,
   "input_path": "__notebook__.ipynb",
   "output_path": "__notebook__.ipynb",
   "parameters": {},
   "start_time": "2024-03-15T04:40:57.629692",
   "version": "2.5.0"
  }
 },
 "nbformat": 4,
 "nbformat_minor": 5
}
